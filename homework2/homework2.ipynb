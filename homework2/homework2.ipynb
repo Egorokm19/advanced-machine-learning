{
 "cells": [
  {
   "cell_type": "markdown",
   "metadata": {},
   "source": [
    "# Продвинутое машинное обучение: \n",
    "# Домашнее задание 2"
   ]
  },
  {
   "cell_type": "markdown",
   "metadata": {},
   "source": [
    "Второе задание — это полноценный проект по анализу данных, начиная от анализа постановки задачи и заканчивая сравнением результатов разных моделей. Задача реальная и серьёзная, хотя тему я выбрал развлекательную: мы будем строить вероятностную рейтинг-систему для спортивного “Что? Где? Когда?” (ЧГК).\n",
    "Background: в спортивном “Что? Где? Когда?” соревнующиеся команды отвечают на одни и те же вопросы. После минуты обсуждения команды записывают и сдают свои ответы на карточках; побеждает тот, кто ответил на большее число вопросов. Турнир обычно состоит из нескольких десятков вопросов (обычно 36 или 45, иногда 60, больше редко). Часто бывают синхронные турниры, когда на одни и те же вопросы отвечают команды на сотнях игровых площадок по всему миру, т.е. в одном турнире могут играть сотни, а то и тысячи команд. Соответственно, нам нужно:\n",
    "- построить рейтинг-лист, который способен нетривиально предсказывать результаты будущих турниров;\n",
    "- при этом, поскольку ЧГК — это хобби, и контрактов тут никаких нет, игроки постоянно переходят из команды в команду, сильный игрок может на один турнир сесть поиграть за другую команду и т.д.; поэтому единицей рейтинг-листа должна быть не команда, а отдельный игрок;\n",
    "- а что сильно упрощает задачу и переводит её в область домашних заданий на EM-алгоритм — это характер данных: начиная с какого-то момента, в базу результатов начали вносить все повопросные результаты команд, т.е. в данных будут записи вида “какая команда на какой вопрос правильно ответила”.\n",
    "\n"
   ]
  },
  {
   "cell_type": "markdown",
   "metadata": {},
   "source": [
    "1. Прочитайте и проанализируйте данные, выберите турниры, в которых есть данные о составах команд и повопросных результатах (поле mask в results.pkl). Для унификации предлагаю:\n",
    "- взять в тренировочный набор турниры с dateStart из 2019 года; \n",
    "- в тестовый — турниры с dateStart из 2020 года."
   ]
  },
  {
   "cell_type": "code",
   "execution_count": 1,
   "metadata": {},
   "outputs": [],
   "source": [
    "import pandas as pd\n",
    "import numpy as np\n",
    "import matplotlib as mpl\n",
    "import matplotlib.pyplot as plt\n",
    "import seaborn as sns\n",
    "import warnings\n",
    "warnings.filterwarnings('ignore')\n",
    "from collections import OrderedDict\n",
    "from time import time\n",
    "\n",
    "import numpy as np\n",
    "import scipy as sp\n",
    "import pandas as pd\n",
    "import zipfile\n",
    "import requests\n",
    "\n",
    "from urllib.parse import quote\n",
    "\n",
    "from scipy.optimize import fmin_powell\n",
    "from scipy.sparse import coo_matrix\n",
    "from sklearn.metrics import log_loss\n",
    "from scipy import integrate\n",
    "from scipy import linalg\n",
    "from scipy.stats import kendalltau, spearmanr\n",
    "from scipy.special import logit, expit\n",
    "\n",
    "from sklearn.preprocessing import normalize\n",
    "from sklearn import linear_model\n",
    "from sklearn.utils.testing import ignore_warnings\n",
    "from sklearn.exceptions import ConvergenceWarning\n",
    "\n",
    "np.set_printoptions(precision=4, suppress=True)\n",
    "\n",
    "from collections import Counter, defaultdict\n",
    "from Levenshtein import distance as levenshtein_distance\n",
    "\n",
    "sns.set_style(\"whitegrid\")\n",
    "sns.set_palette(\"colorblind\")\n",
    "palette = sns.color_palette()\n",
    "figsize = (15,8)\n",
    "legend_fontsize = 16"
   ]
  },
  {
   "cell_type": "markdown",
   "metadata": {},
   "source": [
    "#### Нужно скачать архив с данной страницы и положить рядом с файлом, ссылка: https://www.dropbox.com/s/s4qj0fpsn378m2i/chgk.zip "
   ]
  },
  {
   "cell_type": "code",
   "execution_count": 2,
   "metadata": {},
   "outputs": [],
   "source": [
    "import json, pickle\n",
    "\n",
    "zip_chgk = zipfile.ZipFile('chgk.zip')\n",
    "# загружаем данные турниров\n",
    "tournaments = pickle.load(zip_chgk.open('tournaments.pkl'))\n",
    "# загружаем данные результатов\n",
    "results = pickle.load(zip_chgk.open('results.pkl'))\n",
    "# загружаем данные игроков\n",
    "players = pickle.load(zip_chgk.open('players.pkl'))"
   ]
  },
  {
   "cell_type": "code",
   "execution_count": 3,
   "metadata": {},
   "outputs": [
    {
     "name": "stdout",
     "output_type": "stream",
     "text": [
      "Размер данных турниров: 5528, размер данных результатов: 5528\n"
     ]
    }
   ],
   "source": [
    "print(f\"Размер данных турниров: {len(tournaments)}, размер данных результатов: {len(results)}\")"
   ]
  },
  {
   "cell_type": "code",
   "execution_count": 4,
   "metadata": {},
   "outputs": [],
   "source": [
    "def data_selection(tournaments, results, flag=False):\n",
    "    \"\"\"Функция для формирования отбора выборки.\"\"\"\n",
    "    \n",
    "    results_selection = defaultdict(list)\n",
    "\n",
    "    for k, v in results.items():\n",
    "        if flag:\n",
    "            if tournaments[k][\"dateStart\"][:4] == '2019' or tournaments[k][\"dateStart\"][:4] == '2020':\n",
    "                for res in v:\n",
    "                    if res.get(\"mask\", None) and res.get(\"teamMembers\", []):\n",
    "                        results_selection[k].append(res)\n",
    "        else:\n",
    "            for res in v:\n",
    "                if res.get(\"mask\", None) and res.get(\"teamMembers\", []):\n",
    "                    results_selection[k].append(res)\n",
    "\n",
    "    tournaments_selection = {k: tournaments[k] for k, v in results_selection.items()}\n",
    "    \n",
    "    return results_selection, tournaments_selection"
   ]
  },
  {
   "cell_type": "code",
   "execution_count": 5,
   "metadata": {},
   "outputs": [],
   "source": [
    "# обновляем результаты турниров и сами результаты\n",
    "results_all, tournaments_val = data_selection(tournaments, results, flag=True)"
   ]
  },
  {
   "cell_type": "code",
   "execution_count": 6,
   "metadata": {},
   "outputs": [],
   "source": [
    "def train_test_split(results, tournaments):\n",
    "    \"\"\"Функция для train, test.\"\"\"\n",
    "    \n",
    "    data_train, data_test = {}, {}\n",
    "    \n",
    "    for k, v in results.items():\n",
    "        # формирование train\n",
    "        if tournaments[k][\"dateStart\"][:4] == '2019':\n",
    "            data_train[k] = {\"tournament_name\": tournaments[k][\"name\"]}\n",
    "            res = []\n",
    "            for turn in v:\n",
    "                team_info = {\"team_id\": turn[\"team\"][\"id\"], \"mask\": turn[\"mask\"],\n",
    "                             \"position\": turn[\"position\"],\n",
    "                             \"teamMembers\": [iterr[\"player\"][\"id\"] for iterr in turn['teamMembers']]}\n",
    "                res.append(team_info)\n",
    "            data_train[k][\"tournament_result\"] = res\n",
    "        else:\n",
    "            # формирование test\n",
    "            data_test[k] = {\"tournament_name\": tournaments[k][\"name\"]}\n",
    "            res = []\n",
    "            for turn in v:\n",
    "                team_info = {\"team_id\": turn[\"team\"][\"id\"], \"mask\": turn[\"mask\"],\n",
    "                             \"position\": turn[\"position\"],\n",
    "                             \"teamMembers\": [iterr[\"player\"][\"id\"] for iterr in turn['teamMembers']]}\n",
    "                res.append(team_info)\n",
    "            data_test[k][\"tournament_result\"] = res\n",
    "        \n",
    "    return data_train, data_test"
   ]
  },
  {
   "cell_type": "code",
   "execution_count": 7,
   "metadata": {},
   "outputs": [],
   "source": [
    "# формируем выборку для train и test\n",
    "data_train, data_test = train_test_split(results_all, tournaments_val)"
   ]
  },
  {
   "cell_type": "markdown",
   "metadata": {},
   "source": [
    "2. Постройте baseline-модель на основе линейной или логистической регрессии, которая будет обучать рейтинг-лист игроков. Замечания и подсказки:\n",
    "- повопросные результаты — это фактически результаты броска монетки, и их предсказание скорее всего имеет отношение к бинарной классификации;\n",
    "- в разных турнирах вопросы совсем разного уровня сложности, поэтому модель должна это учитывать; скорее всего, модель должна будет явно обучать не только силу каждого игрока, но и сложность каждого вопроса;\n",
    "- для baseline-модели можно забыть о командах и считать, что повопросные результаты команды просто относятся к каждому из её игроков."
   ]
  },
  {
   "cell_type": "code",
   "execution_count": 8,
   "metadata": {},
   "outputs": [],
   "source": [
    "def check_count_players(dataset):\n",
    "    \"\"\"Считаем количество игроков, участвующих в турнире.\"\"\"\n",
    "    \n",
    "    players = Counter()\n",
    "    for val in dataset.values():\n",
    "        for team in val[\"tournament_result\"]:\n",
    "            players += Counter({iterr: 1 for iterr in team[\"teamMembers\"]})\n",
    "            \n",
    "    return players\n",
    "\n",
    "\n",
    "def filter_value(count_players):\n",
    "    \"\"\"Отбрасываем игроков, которые сыграли меньше 1 турнира.\"\"\"\n",
    "    \n",
    "    players_inteval = set()\n",
    "    for k, v in count_players.most_common():\n",
    "        if v <= 1:\n",
    "            players_inteval.add(k)\n",
    "            \n",
    "    return players_inteval\n",
    "\n",
    "\n",
    "# фильтрация игроков\n",
    "count_players = check_count_players(data_train)\n",
    "filter_value_players = filter_value(count_players)\n",
    "    \n",
    "del_players = set()\n",
    "for res in data_train.values():\n",
    "    for tourn in res[\"tournament_result\"]:\n",
    "        tourn[\"teamMembers\"] = set([-1 if iterr in filter_value_players else iterr for iterr in tourn[\"teamMembers\"]])\n",
    "        del_players.update(tourn[\"teamMembers\"])\n",
    "\n",
    "for res in data_test.values():\n",
    "    for tourn in res[\"tournament_result\"]:\n",
    "        tourn[\"teamMembers\"] = set([-1 if iterr not in del_players else iterr for iterr in tourn[\"teamMembers\"]])  "
   ]
  },
  {
   "cell_type": "code",
   "execution_count": 9,
   "metadata": {},
   "outputs": [],
   "source": [
    "def features_data(dataset):\n",
    "    \"\"\"Обработка вопросов.\"\"\"\n",
    "\n",
    "    questions = set()\n",
    "    for k, v in dataset.items():\n",
    "        for team in v[\"tournament_result\"]:\n",
    "            questions.update(team[\"teamMembers\"])\n",
    "            questions_ids = (f\"{k}_{iterr}\" for iterr in range(len(team[\"mask\"])))\n",
    "            questions.update(questions_ids)\n",
    "    questions = {v: i for i, v in enumerate(questions)}\n",
    "        \n",
    "    return questions"
   ]
  },
  {
   "cell_type": "code",
   "execution_count": 10,
   "metadata": {},
   "outputs": [],
   "source": [
    "# обработка вопросов\n",
    "questions_data = features_data(data_train)"
   ]
  },
  {
   "cell_type": "code",
   "execution_count": 11,
   "metadata": {},
   "outputs": [],
   "source": [
    "def to_assray(value):\n",
    "    \"\"\"Преобразование в массив.\"\"\"\n",
    "    \n",
    "    return np.asarray(value, dtype=np.int32)"
   ]
  },
  {
   "cell_type": "code",
   "execution_count": 12,
   "metadata": {},
   "outputs": [],
   "source": [
    "def data_to_split(dataset, questions_data, flag):\n",
    "    \"\"\"Функция для сбора данных вместе.\"\"\"\n",
    "    \n",
    "    val_current, question, label = [], [], []\n",
    "    number = 0\n",
    "    for k, v in dataset.items():\n",
    "        for team in v[\"tournament_result\"]:\n",
    "            for mask_num, mask in enumerate(team[\"mask\"]):\n",
    "                try:\n",
    "                    label.extend([int(mask)] * len(team[\"teamMembers\"]))\n",
    "                except:\n",
    "                    continue\n",
    "                for team_member in team[\"teamMembers\"]:\n",
    "                    val_current.append(number)\n",
    "                    question.append(questions_data[team_member])\n",
    "                    if flag:    \n",
    "                        val_current.append(number)\n",
    "                        question.append(questions_data[f\"{k}_{mask_num}\"])\n",
    "                    number += 1\n",
    "\n",
    "    label = np.asarray(label, dtype=np.int8)\n",
    "    x = coo_matrix((np.ones(len(val_current)), (to_assray(val_current), to_assray(question))),\n",
    "                   shape=(len(label), len(questions_data)))\n",
    "    data_x = pd.DataFrame.sparse.from_spmatrix(x)\n",
    "    \n",
    "    return data_x, label"
   ]
  },
  {
   "cell_type": "code",
   "execution_count": 13,
   "metadata": {},
   "outputs": [
    {
     "name": "stdout",
     "output_type": "stream",
     "text": [
      "Результаты для train: 0.4942828679012039, результаты для test: 0.7020491690503211\n"
     ]
    }
   ],
   "source": [
    "# данные для обучения\n",
    "X_train, y_train = data_to_split(data_train, questions_data, True)\n",
    "# данные для теста\n",
    "X_test, y_test = data_to_split(data_test, questions_data, False)\n",
    "\n",
    "# обучаем baseline модель\n",
    "model = linear_model.LogisticRegression()\n",
    "model.fit(X_train, y_train)\n",
    "\n",
    "# сделаем предикт на данных и выведем результаты по метрикам\n",
    "pred_train = model.predict_proba(X_train)\n",
    "pred_test = model.predict_proba(X_test)\n",
    "print(f\"Результаты для train: {log_loss(y_train, pred_train)}, результаты для test: {log_loss(y_test, pred_test)}\")"
   ]
  },
  {
   "cell_type": "markdown",
   "metadata": {},
   "source": [
    "3. Качество рейтинг-системы оценивается качеством предсказаний результатов турниров. Но сами повопросные результаты наши модели предсказывать вряд ли смогут, ведь неизвестно, насколько сложными окажутся вопросы в будущих турнирах; да и не нужны эти предсказания сами по себе. Поэтому:\n",
    "- предложите способ предсказать результаты нового турнира с известными составами, но неизвестными вопросами, в виде ранжирования команд;\n",
    "- в качестве метрики качества на тестовом наборе давайте считать ранговые корреляции Спирмена и Кендалла (их можно взять в пакете scipy) между реальным ранжированием в результатах турнира и предсказанным моделью, усреднённые по тестовому множеству турниров"
   ]
  },
  {
   "cell_type": "markdown",
   "metadata": {},
   "source": [
    "##### Идея: Предалагется отсортировать команды в зависимости от правильности ответов игроков на вопросы, при условии, что хотя бы один игрок отвечает на вопрос верно."
   ]
  },
  {
   "cell_type": "code",
   "execution_count": 14,
   "metadata": {},
   "outputs": [],
   "source": [
    "def data_concept(dataset):\n",
    "    \"\"\"Инициализируем набор данных с местами команд.\"\"\"\n",
    "    \n",
    "    tournament_id, team_id, pos, answer, tournament_num, team_num, player_num, question_num = [], [], [], [], [], [], [], []\n",
    "    for k, v in dataset.items():\n",
    "        for res in v[\"tournament_result\"]:\n",
    "            tournament_id.append(k)\n",
    "            team_id.append(res[\"team_id\"])\n",
    "            pos.append(res[\"position\"])\n",
    "            for num_mask, mask in enumerate(res[\"mask\"]):\n",
    "                try:\n",
    "                    answer.extend([int(mask)] * len(res[\"teamMembers\"]))\n",
    "                    tournament_num.extend([k] * len(res[\"teamMembers\"]))\n",
    "                    team_num.extend([res[\"team_id\"]] * len(res[\"teamMembers\"]))\n",
    "                    question_num.extend([num_mask] * len(res[\"teamMembers\"]))\n",
    "                except:\n",
    "                    continue\n",
    "                for team_member in res[\"teamMembers\"]:\n",
    "                    player_num.append(team_member)\n",
    "\n",
    "    data_positions = pd.DataFrame({'tournament_id' : tournament_id, \"team_id\" : team_id, \"position\" : pos})\n",
    "    \n",
    "    return data_positions, to_assray(tournament_num), to_assray(team_num), to_assray(answer), to_assray(team_id), to_assray(player_num), to_assray(question_num)\n",
    "\n",
    "# создаем набор данных\n",
    "data_positions, tournament_num_test, team_num_test, _, _, player_num_test, question_num_test = data_concept(data_test)"
   ]
  },
  {
   "cell_type": "code",
   "execution_count": 15,
   "metadata": {},
   "outputs": [],
   "source": [
    "def calculate_coeff(dataset, tournament, team, predict_data):\n",
    "    \"\"\"Считаем корреляции Спирмена и Кендалла.\"\"\"\n",
    "    \n",
    "    # делаем датафрейм с предсказанными значениями\n",
    "    data_positions_predict = pd.DataFrame({'tournament_id' : tournament, \"team_id\" : team, \"predict\" : 1 - predict_data})\n",
    "    data_positions_predict = data_positions_predict.groupby([\"tournament_id\", \"team_id\"]).agg(\"prod\").reset_index()\n",
    "    data_positions_predict[\"position_pred\"] = data_positions_predict.groupby(\"tournament_id\")[\"predict\"].rank(\"dense\")\n",
    "    \n",
    "    # объединяем данные\n",
    "    data_merge = data_positions_predict.merge(dataset, on=[\"tournament_id\", \"team_id\"])\n",
    "    # инициализируем списки для записи значений\n",
    "    coeff_kendall, coeff_spearman = [], []\n",
    "    for iterr in data_merge['tournament_id'].unique():\n",
    "        val = data_merge.loc[data_merge['tournament_id'] == iterr].position_pred\n",
    "        val_pred = data_merge.loc[data_merge['tournament_id'] == iterr].position\n",
    "        # вычисляем значения\n",
    "        coeff_kendall += [kendalltau(val_pred, val).correlation]\n",
    "        coeff_spearman += [spearmanr(val_pred, val).correlation]\n",
    "\n",
    "    # заполяняем значения\n",
    "    coeff_kendall = np.asarray(coeff_kendall)\n",
    "    coeff_spearman = np.asarray(coeff_spearman)\n",
    "    coeff_kendall[np.isnan(coeff_kendall)] = 0.0\n",
    "    coeff_spearman[np.isnan(coeff_spearman)] = 0.0\n",
    "    \n",
    "    return np.mean(coeff_spearman), np.mean(coeff_kendall)"
   ]
  },
  {
   "cell_type": "code",
   "execution_count": 16,
   "metadata": {},
   "outputs": [
    {
     "name": "stdout",
     "output_type": "stream",
     "text": [
      "Ранговые корреляции Спирмена = 0.77358015666529 и Кендалла = 0.6190926272413736\n"
     ]
    }
   ],
   "source": [
    "val_coeff_spearman, val_coeff_kendall = calculate_coeff(data_positions, tournament_num_test, team_num_test, pred_test[:, 1])\n",
    "print(f\"Ранговые корреляции Спирмена = {val_coeff_spearman} и Кендалла = {val_coeff_kendall}\")"
   ]
  },
  {
   "cell_type": "markdown",
   "metadata": {},
   "source": [
    "4. Теперь главное: ЧГК — это всё-таки командная игра. Поэтому:\n",
    "- предложите способ учитывать то, что на вопрос отвечают сразу несколько игроков; скорее всего, понадобятся скрытые переменные; не стесняйтесь делать упрощающие предположения, но теперь переменные “игрок X ответил на вопрос Y” при условии данных должны стать зависимыми для игроков одной и той же команды;\n",
    "- разработайте EM-схему для обучения этой модели, реализуйте её в коде;\n",
    "- обучите несколько итераций, убедитесь, что целевые метрики со временем растут (скорее всего, ненамного, но расти должны), выберите лучшую модель, используя целевые метрики.\n"
   ]
  },
  {
   "cell_type": "markdown",
   "metadata": {},
   "source": [
    "##### Идея: на шаге Е оценивается математическое ожидание ответов игроков - z, а Z - ответ игрока при условии ответа команды. На шаге М оценивается ответ игроков по сложности вопроса, при условии z"
   ]
  },
  {
   "cell_type": "code",
   "execution_count": 17,
   "metadata": {},
   "outputs": [],
   "source": [
    "# берем набор данных с играми, командами и игроками\n",
    "_, tournament_num_train, team_num_train, _, _, player_num_train, question_num_train = data_concept(data_train)"
   ]
  },
  {
   "cell_type": "code",
   "execution_count": 18,
   "metadata": {},
   "outputs": [
    {
     "name": "stdout",
     "output_type": "stream",
     "text": [
      "На 1 шаге ранговые корреляции Спирмена = 0.7934489970116114 и корреляция Кендалла: 0.6373592366981913\n",
      "\n",
      "На 2 шаге ранговые корреляции Спирмена = 0.7932310922680609 и корреляция Кендалла: 0.6371797666233624\n",
      "\n",
      "На 3 шаге ранговые корреляции Спирмена = 0.7939141908301062 и корреляция Кендалла: 0.6374986787389174\n",
      "\n",
      "На 4 шаге ранговые корреляции Спирмена = 0.793677857202997 и корреляция Кендалла: 0.6372956273321356\n",
      "\n",
      "На 5 шаге ранговые корреляции Спирмена = 0.7937393300342229 и корреляция Кендалла: 0.6372203570361646\n",
      "\n",
      "На 6 шаге ранговые корреляции Спирмена = 0.7932117716600684 и корреляция Кендалла: 0.6368038279270962\n",
      "\n",
      "На 7 шаге ранговые корреляции Спирмена = 0.7930416837030412 и корреляция Кендалла: 0.6367748642762452\n",
      "\n",
      "На 8 шаге ранговые корреляции Спирмена = 0.7923377179731143 и корреляция Кендалла: 0.6361745072108295\n",
      "\n",
      "На 9 шаге ранговые корреляции Спирмена = 0.7920534180487692 и корреляция Кендалла: 0.6358359680081481\n",
      "\n",
      "На 10 шаге ранговые корреляции Спирмена = 0.7919634262934486 и корреляция Кендалла: 0.6356588517240569\n",
      "\n"
     ]
    }
   ],
   "source": [
    "def EM_algo(data_positions, X_train, X_test, y_train, tournament_num, team_num, player, question, predict_data, tournament_num_test, team_num_test, iteration):\n",
    "    \"\"\"EM - алгоритм.\"\"\"\n",
    "    \n",
    "    for iterr in range(1, iteration):\n",
    "        # E-шаг\n",
    "        # делаем датафрейм с предсказанными значениями\n",
    "        data_em = pd.DataFrame({'tournament_id' : tournament_num, \"team_id\" : team_num,\n",
    "                                               'player_id' : player, \"questions\" : question,\n",
    "                                               \"predict\" : predict_data[:, 1]})\n",
    "        data_em['iverse_predict'] = 1 - data_em[\"predict\"]\n",
    "        data_pred_teams = data_em.drop([\"player_id\", \"predict\"], axis=1).groupby([\"tournament_id\", \"team_id\", \"questions\"]).agg(\"prod\").reset_index()\n",
    "        data_pred_teams[\"team_predict\"] = 1 - data_pred_teams[\"iverse_predict\"]\n",
    "\n",
    "        data_em = data_em.drop(\"iverse_predict\", axis=1).merge(data_pred_teams.drop(\"iverse_predict\", axis=1), on=[\"tournament_id\", \"team_id\", \"questions\"])\n",
    "        data_em[\"z_value\"] = data_em[\"predict\"] / data_em[\"team_predict\"]\n",
    "\n",
    "        z_value = np.where(y_train == 0, 0, data_em[\"z_value\"].values)\n",
    "        z_value = np.clip(z_value, 1e-6, 1 - 1e-6)\n",
    "\n",
    "        # M-шаг\n",
    "        model = linear_model.Ridge(alpha=iterr)\n",
    "        model.fit(X_train, logit(z_value))\n",
    "        pred_train_em = expit(model.predict(X_train))\n",
    "        pred_test_em = expit(model.predict(X_test))\n",
    "\n",
    "        # оценка по метрикам\n",
    "        val_coeff_spearman, val_coeff_kendall = calculate_coeff(data_positions, tournament_num_test, team_num_test, pred_test_em)\n",
    "\n",
    "        print(f\"На {iterr} шаге ранговые корреляции Спирмена = {val_coeff_spearman} и корреляция Кендалла: {val_coeff_kendall}\\n\")\n",
    "        \n",
    "    return pred_test_em, model \n",
    "# обучение        \n",
    "pred_test_em, model = EM_algo(data_positions, X_train, X_test, y_train, tournament_num_train,\n",
    "                              team_num_train, player_num_train, question_num_train, pred_train,\n",
    "                              tournament_num_test, team_num_test, 11)"
   ]
  },
  {
   "cell_type": "markdown",
   "metadata": {},
   "source": [
    "5. А что там с вопросами? Постройте “рейтинг-лист” турниров по сложности вопросов. Соответствует ли он интуиции (например, на чемпионате мира в целом должны быть сложные вопросы, а на турнирах для школьников — простые)? Если будет интересно: постройте топ сложных и простых вопросов со ссылками на конкретные записи в базе вопросов ЧГК (это чисто техническое дело, тут никакого ML нету)."
   ]
  },
  {
   "cell_type": "code",
   "execution_count": 19,
   "metadata": {},
   "outputs": [],
   "source": [
    "# формируем словарь рейтинга\n",
    "dict_data_rating = {}\n",
    "for k, v in tournaments_val.items():\n",
    "    check = False\n",
    "    if v['dateStart'][:4] in ['2019', '2020']:\n",
    "        result_tour = results_all[k]\n",
    "        val_question = 0\n",
    "        for q in v['questionQty'].values():\n",
    "            val_question += q\n",
    "\n",
    "        for res in result_tour:\n",
    "            if ('mask' not in res or res['mask'] is None) or ('teamMembers' not in res or res['teamMembers'] is None) or len(res['mask']) != val_question:\n",
    "                check = True\n",
    "                break\n",
    "        if not check and len(result_tour) != 0:\n",
    "            dict_data_rating[k] = v\n",
    "# формируем словарь\n",
    "result_all = {k: results_all[k] for k in dict_data_rating.keys()}"
   ]
  },
  {
   "cell_type": "code",
   "execution_count": 20,
   "metadata": {},
   "outputs": [],
   "source": [
    "# считаем “рейтинг-лист” турниров по сложности вопросов\n",
    "# создаем списки для записи id, названия турниров и их рейтинга\n",
    "id_list, name_list, rating_list = [], [], [] \n",
    "for k, v in result_all.items():\n",
    "    rating_val = [0 for _ in range(len(v[0]['mask']))]\n",
    "    for team in v:\n",
    "        for pos in range(len(team['mask'])):\n",
    "            rating_val[pos] += 1 if team['mask'][pos] == '1' else 0\n",
    "    tour_rating = np.sum(np.array(rating_val) / len(v))\n",
    "    id_list.append(k)\n",
    "    name_list.append(tournaments_val[k]['name'])\n",
    "    rating_list.append(tour_rating)\n",
    "    \n",
    "# создаем датафрейм турниров\n",
    "data_tournaments = pd.DataFrame({'id': id_list, 'name_tournament': name_list, 'rating': rating_list})\n",
    "# сортируем данные турниров\n",
    "data_tournaments = data_tournaments.sort_values(by='rating', ascending=False)"
   ]
  },
  {
   "cell_type": "code",
   "execution_count": 21,
   "metadata": {},
   "outputs": [
    {
     "data": {
      "text/html": [
       "<div>\n",
       "<style scoped>\n",
       "    .dataframe tbody tr th:only-of-type {\n",
       "        vertical-align: middle;\n",
       "    }\n",
       "\n",
       "    .dataframe tbody tr th {\n",
       "        vertical-align: top;\n",
       "    }\n",
       "\n",
       "    .dataframe thead th {\n",
       "        text-align: right;\n",
       "    }\n",
       "</style>\n",
       "<table border=\"1\" class=\"dataframe\">\n",
       "  <thead>\n",
       "    <tr style=\"text-align: right;\">\n",
       "      <th></th>\n",
       "      <th>id</th>\n",
       "      <th>name_tournament</th>\n",
       "      <th>rating</th>\n",
       "    </tr>\n",
       "  </thead>\n",
       "  <tbody>\n",
       "    <tr>\n",
       "      <th>490</th>\n",
       "      <td>5827</td>\n",
       "      <td>Шестой киевский марафон. Асинхрон</td>\n",
       "      <td>314.750000</td>\n",
       "    </tr>\n",
       "    <tr>\n",
       "      <th>124</th>\n",
       "      <td>5405</td>\n",
       "      <td>Кавалькада волхвов</td>\n",
       "      <td>165.200000</td>\n",
       "    </tr>\n",
       "    <tr>\n",
       "      <th>766</th>\n",
       "      <td>6212</td>\n",
       "      <td>Кавалькада волхвов</td>\n",
       "      <td>153.454545</td>\n",
       "    </tr>\n",
       "    <tr>\n",
       "      <th>389</th>\n",
       "      <td>5709</td>\n",
       "      <td>Высшая лига ЧТ</td>\n",
       "      <td>92.000000</td>\n",
       "    </tr>\n",
       "    <tr>\n",
       "      <th>728</th>\n",
       "      <td>6150</td>\n",
       "      <td>Чемпионат Санкт-Петербурга. Высшая лига</td>\n",
       "      <td>80.000000</td>\n",
       "    </tr>\n",
       "    <tr>\n",
       "      <th>...</th>\n",
       "      <td>...</td>\n",
       "      <td>...</td>\n",
       "      <td>...</td>\n",
       "    </tr>\n",
       "    <tr>\n",
       "      <th>733</th>\n",
       "      <td>6162</td>\n",
       "      <td>33</td>\n",
       "      <td>6.888889</td>\n",
       "    </tr>\n",
       "    <tr>\n",
       "      <th>369</th>\n",
       "      <td>5684</td>\n",
       "      <td>Синхрон высшей лиги Москвы</td>\n",
       "      <td>6.600000</td>\n",
       "    </tr>\n",
       "    <tr>\n",
       "      <th>633</th>\n",
       "      <td>5998</td>\n",
       "      <td>Memento memes IV</td>\n",
       "      <td>6.573333</td>\n",
       "    </tr>\n",
       "    <tr>\n",
       "      <th>394</th>\n",
       "      <td>5717</td>\n",
       "      <td>Чемпионат Таджикистана</td>\n",
       "      <td>4.076923</td>\n",
       "    </tr>\n",
       "    <tr>\n",
       "      <th>727</th>\n",
       "      <td>6149</td>\n",
       "      <td>Чемпионат Санкт-Петербурга. Первая лига</td>\n",
       "      <td>0.000000</td>\n",
       "    </tr>\n",
       "  </tbody>\n",
       "</table>\n",
       "<p>831 rows × 3 columns</p>\n",
       "</div>"
      ],
      "text/plain": [
       "       id                          name_tournament      rating\n",
       "490  5827        Шестой киевский марафон. Асинхрон  314.750000\n",
       "124  5405                       Кавалькада волхвов  165.200000\n",
       "766  6212                       Кавалькада волхвов  153.454545\n",
       "389  5709                           Высшая лига ЧТ   92.000000\n",
       "728  6150  Чемпионат Санкт-Петербурга. Высшая лига   80.000000\n",
       "..    ...                                      ...         ...\n",
       "733  6162                                       33    6.888889\n",
       "369  5684               Синхрон высшей лиги Москвы    6.600000\n",
       "633  5998                         Memento memes IV    6.573333\n",
       "394  5717                   Чемпионат Таджикистана    4.076923\n",
       "727  6149  Чемпионат Санкт-Петербурга. Первая лига    0.000000\n",
       "\n",
       "[831 rows x 3 columns]"
      ]
     },
     "execution_count": 21,
     "metadata": {},
     "output_type": "execute_result"
    }
   ],
   "source": [
    "data_tournaments"
   ]
  },
  {
   "cell_type": "code",
   "execution_count": 22,
   "metadata": {},
   "outputs": [
    {
     "data": {
      "image/png": "[encoded data removed]",
      "text/plain": [
       "<Figure size 432x288 with 1 Axes>"
      ]
     },
     "metadata": {},
     "output_type": "display_data"
    }
   ],
   "source": [
    "# посмотрим на график урейтинга команд, где видно, что в основном мало топовых турниров, а среднее значение рейтинга составляет 20\n",
    "plt.plot(range(data_tournaments.rating.shape[0]), data_tournaments.rating.values)\n",
    "plt.title(\"График рейтинга турниров\")\n",
    "plt.show()"
   ]
  },
  {
   "cell_type": "code",
   "execution_count": 23,
   "metadata": {},
   "outputs": [
    {
     "name": "stdout",
     "output_type": "stream",
     "text": [
      "Топ 10 турниров по сложным вопросам:\n",
      "\n",
      "1. Шестой киевский марафон. Асинхрон https://db.chgk.info/search/questions/%D0%A8%D0%B5%D1%81%D1%82%D0%BE%D0%B9%20%D0%BA%D0%B8%D0%B5%D0%B2%D1%81%D0%BA%D0%B8%D0%B9%20%D0%BC%D0%B0%D1%80%D0%B0%D1%84%D0%BE%D0%BD.%20%D0%90%D1%81%D0%B8%D0%BD%D1%85%D1%80%D0%BE%D0%BD\n",
      "2. Кавалькада волхвов https://db.chgk.info/search/questions/%D0%9A%D0%B0%D0%B2%D0%B0%D0%BB%D1%8C%D0%BA%D0%B0%D0%B4%D0%B0%20%D0%B2%D0%BE%D0%BB%D1%85%D0%B2%D0%BE%D0%B2\n",
      "3. Кавалькада волхвов https://db.chgk.info/search/questions/%D0%9A%D0%B0%D0%B2%D0%B0%D0%BB%D1%8C%D0%BA%D0%B0%D0%B4%D0%B0%20%D0%B2%D0%BE%D0%BB%D1%85%D0%B2%D0%BE%D0%B2\n",
      "4. Высшая лига ЧТ https://db.chgk.info/search/questions/%D0%92%D1%8B%D1%81%D1%88%D0%B0%D1%8F%20%D0%BB%D0%B8%D0%B3%D0%B0%20%D0%A7%D0%A2\n",
      "5. Чемпионат Санкт-Петербурга. Высшая лига https://db.chgk.info/search/questions/%D0%A7%D0%B5%D0%BC%D0%BF%D0%B8%D0%BE%D0%BD%D0%B0%D1%82%20%D0%A1%D0%B0%D0%BD%D0%BA%D1%82-%D0%9F%D0%B5%D1%82%D0%B5%D1%80%D0%B1%D1%83%D1%80%D0%B3%D0%B0.%20%D0%92%D1%8B%D1%81%D1%88%D0%B0%D1%8F%20%D0%BB%D0%B8%D0%B3%D0%B0\n",
      "6. Студенческая лига ЧТ https://db.chgk.info/search/questions/%D0%A1%D1%82%D1%83%D0%B4%D0%B5%D0%BD%D1%87%D0%B5%D1%81%D0%BA%D0%B0%D1%8F%20%D0%BB%D0%B8%D0%B3%D0%B0%20%D0%A7%D0%A2\n",
      "7. Первая лига ЧТ https://db.chgk.info/search/questions/%D0%9F%D0%B5%D1%80%D0%B2%D0%B0%D1%8F%20%D0%BB%D0%B8%D0%B3%D0%B0%20%D0%A7%D0%A2\n",
      "8. Олимпийский Кубок Беларуси https://db.chgk.info/search/questions/%D0%9E%D0%BB%D0%B8%D0%BC%D0%BF%D0%B8%D0%B9%D1%81%D0%BA%D0%B8%D0%B9%20%D0%9A%D1%83%D0%B1%D0%BE%D0%BA%20%D0%91%D0%B5%D0%BB%D0%B0%D1%80%D1%83%D1%81%D0%B8\n",
      "9. Memel Cup https://db.chgk.info/search/questions/Memel%20Cup\n",
      "10. Славянка https://db.chgk.info/search/questions/%D0%A1%D0%BB%D0%B0%D0%B2%D1%8F%D0%BD%D0%BA%D0%B0\n"
     ]
    }
   ],
   "source": [
    "# выведем топ 10 турниров по сложным вопросам\n",
    "number = 1\n",
    "print(\"Топ 10 турниров по сложным вопросам:\\n\")\n",
    "for index, row in data_tournaments[:10].iterrows():\n",
    "    rating_row = row.copy()\n",
    "    # выводим значения\n",
    "    print(f\"{number}. {rating_row.name_tournament} {'https://db.chgk.info/search/questions/' + quote(rating_row.name_tournament)}\")\n",
    "    number += 1"
   ]
  },
  {
   "cell_type": "code",
   "execution_count": 24,
   "metadata": {},
   "outputs": [
    {
     "name": "stdout",
     "output_type": "stream",
     "text": [
      "Топ 10 турниров по простым вопросам:\n",
      "\n",
      "1. Открытый кубок МВУТ https://db.chgk.info/search/questions/%D0%9E%D1%82%D0%BA%D1%80%D1%8B%D1%82%D1%8B%D0%B9%20%D0%BA%D1%83%D0%B1%D0%BE%D0%BA%20%D0%9C%D0%92%D0%A3%D0%A2\n",
      "2. Зеркало Окского марафона. Злой https://db.chgk.info/search/questions/%D0%97%D0%B5%D1%80%D0%BA%D0%B0%D0%BB%D0%BE%20%D0%9E%D0%BA%D1%81%D0%BA%D0%BE%D0%B3%D0%BE%20%D0%BC%D0%B0%D1%80%D0%B0%D1%84%D0%BE%D0%BD%D0%B0.%20%D0%97%D0%BB%D0%BE%D0%B9\n",
      "3. Чемпионат Кыргызстана https://db.chgk.info/search/questions/%D0%A7%D0%B5%D0%BC%D0%BF%D0%B8%D0%BE%D0%BD%D0%B0%D1%82%20%D0%9A%D1%8B%D1%80%D0%B3%D1%8B%D0%B7%D1%81%D1%82%D0%B0%D0%BD%D0%B0\n",
      "4. VERSUS: Немец vs. Шагал https://db.chgk.info/search/questions/VERSUS%3A%20%D0%9D%D0%B5%D0%BC%D0%B5%D1%86%20vs.%20%D0%A8%D0%B0%D0%B3%D0%B0%D0%BB\n",
      "5. Чемпионат школы №1568 https://db.chgk.info/search/questions/%D0%A7%D0%B5%D0%BC%D0%BF%D0%B8%D0%BE%D0%BD%D0%B0%D1%82%20%D1%88%D0%BA%D0%BE%D0%BB%D1%8B%20%E2%84%961568\n",
      "6. 33 https://db.chgk.info/search/questions/33\n",
      "7. Синхрон высшей лиги Москвы https://db.chgk.info/search/questions/%D0%A1%D0%B8%D0%BD%D1%85%D1%80%D0%BE%D0%BD%20%D0%B2%D1%8B%D1%81%D1%88%D0%B5%D0%B9%20%D0%BB%D0%B8%D0%B3%D0%B8%20%D0%9C%D0%BE%D1%81%D0%BA%D0%B2%D1%8B\n",
      "8. Memento memes IV https://db.chgk.info/search/questions/Memento%20memes%20IV\n",
      "9. Чемпионат Таджикистана https://db.chgk.info/search/questions/%D0%A7%D0%B5%D0%BC%D0%BF%D0%B8%D0%BE%D0%BD%D0%B0%D1%82%20%D0%A2%D0%B0%D0%B4%D0%B6%D0%B8%D0%BA%D0%B8%D1%81%D1%82%D0%B0%D0%BD%D0%B0\n",
      "10. Чемпионат Санкт-Петербурга. Первая лига https://db.chgk.info/search/questions/%D0%A7%D0%B5%D0%BC%D0%BF%D0%B8%D0%BE%D0%BD%D0%B0%D1%82%20%D0%A1%D0%B0%D0%BD%D0%BA%D1%82-%D0%9F%D0%B5%D1%82%D0%B5%D1%80%D0%B1%D1%83%D1%80%D0%B3%D0%B0.%20%D0%9F%D0%B5%D1%80%D0%B2%D0%B0%D1%8F%20%D0%BB%D0%B8%D0%B3%D0%B0\n"
     ]
    }
   ],
   "source": [
    "# выведем топ 10 турниров по простым вопросам\n",
    "number = 1\n",
    "print(\"Топ 10 турниров по простым вопросам:\\n\")\n",
    "for index, row in data_tournaments[-10::].iterrows():\n",
    "    rating_row = row.copy()\n",
    "    # выводим значения\n",
    "    print(f\"{number}. {rating_row.name_tournament} {'https://db.chgk.info/search/questions/' + quote(rating_row.name_tournament)}\")\n",
    "    number += 1"
   ]
  },
  {
   "cell_type": "markdown",
   "metadata": {},
   "source": [
    "В целом, \"рейтинг-лист\" соответствует интуиции, видно, что на турнирах для школьников в основном простые вопросы, а в высших лигах и студенческих чемпионатов - сложные."
   ]
  },
  {
   "cell_type": "markdown",
   "metadata": {},
   "source": [
    "6. Бонус: постройте топ игроков по предсказанной вашей моделью силе игры, а рядом с именами игроков напишите общее число вопросов, которое они сыграли. Скорее всего, вы увидите, что топ занят игроками, которые сыграли совсем мало вопросов, около 100 или даже меньше; если вы поищете их в официальном рейтинге ЧГК, вы увидите, что это какие-то непонятные ноунеймы. В baseline-модели, скорее всего, такой эффект будет гораздо слабее.\n",
    "Это естественное свойство модели: за счёт EM-схемы влияние 1-2 удачно сыгранных турниров будет только усиливаться, потому что неудачных турниров, чтобы его компенсировать, у этих игроков нет. Более того, это не мешает метрикам качества, потому что если эти игроки сыграли всего 1-2 турнира в 2019-м, скорее всего они ничего или очень мало сыграли и в 2020, и их рейтинги никак не влияют на качество тестовых предсказаний. Но для реального рейтинга такое свойство, конечно, было бы крайне нежелательным. Давайте попробуем его исправить:\n",
    "- сначала жёстко: выберите разумную отсечку по числу вопросов, учитывая, что в одном турнире их обычно 30-50;\n",
    "- можно ли просто выбросить игроков, которые мало играли, и переобучить модель? почему? предложите, как нужно изменить модель, чтобы не учитывать слишком мало сыгравших, и переобучите модель;\n",
    "- но всё-таки это не слишком хорошее решение: если выбрать маленькую отсечку, будут ноунеймы в топе, а если большую, то получится, что у нового игрока слишком долго не будет рейтинга; скорее всего, никакой “золотой середины” тут не получится;\n",
    "- предложите более концептуальное решение для топа игроков в рейтинг-листе; если получится, реализуйте его на практике (за это уж точно будут серьёзные бонусные баллы).\n"
   ]
  },
  {
   "cell_type": "code",
   "execution_count": 25,
   "metadata": {},
   "outputs": [
    {
     "data": {
      "text/html": [
       "<div>\n",
       "<style scoped>\n",
       "    .dataframe tbody tr th:only-of-type {\n",
       "        vertical-align: middle;\n",
       "    }\n",
       "\n",
       "    .dataframe tbody tr th {\n",
       "        vertical-align: top;\n",
       "    }\n",
       "\n",
       "    .dataframe thead th {\n",
       "        text-align: right;\n",
       "    }\n",
       "</style>\n",
       "<table border=\"1\" class=\"dataframe\">\n",
       "  <thead>\n",
       "    <tr style=\"text-align: right;\">\n",
       "      <th></th>\n",
       "      <th>player_id</th>\n",
       "      <th>predict</th>\n",
       "      <th>questions</th>\n",
       "      <th>tournament_id</th>\n",
       "    </tr>\n",
       "  </thead>\n",
       "  <tbody>\n",
       "    <tr>\n",
       "      <th>2526</th>\n",
       "      <td>27403</td>\n",
       "      <td>6.316987e-01</td>\n",
       "      <td>517</td>\n",
       "      <td>13</td>\n",
       "    </tr>\n",
       "    <tr>\n",
       "      <th>388</th>\n",
       "      <td>4270</td>\n",
       "      <td>5.231739e-01</td>\n",
       "      <td>433</td>\n",
       "      <td>11</td>\n",
       "    </tr>\n",
       "    <tr>\n",
       "      <th>2653</th>\n",
       "      <td>28751</td>\n",
       "      <td>5.110516e-01</td>\n",
       "      <td>626</td>\n",
       "      <td>16</td>\n",
       "    </tr>\n",
       "    <tr>\n",
       "      <th>2100</th>\n",
       "      <td>22474</td>\n",
       "      <td>4.574046e-01</td>\n",
       "      <td>36</td>\n",
       "      <td>1</td>\n",
       "    </tr>\n",
       "    <tr>\n",
       "      <th>2782</th>\n",
       "      <td>30152</td>\n",
       "      <td>4.459775e-01</td>\n",
       "      <td>1669</td>\n",
       "      <td>43</td>\n",
       "    </tr>\n",
       "    <tr>\n",
       "      <th>...</th>\n",
       "      <td>...</td>\n",
       "      <td>...</td>\n",
       "      <td>...</td>\n",
       "      <td>...</td>\n",
       "    </tr>\n",
       "    <tr>\n",
       "      <th>18341</th>\n",
       "      <td>207705</td>\n",
       "      <td>6.409654e-08</td>\n",
       "      <td>36</td>\n",
       "      <td>1</td>\n",
       "    </tr>\n",
       "    <tr>\n",
       "      <th>18593</th>\n",
       "      <td>208183</td>\n",
       "      <td>6.384045e-08</td>\n",
       "      <td>108</td>\n",
       "      <td>3</td>\n",
       "    </tr>\n",
       "    <tr>\n",
       "      <th>18592</th>\n",
       "      <td>208182</td>\n",
       "      <td>6.384045e-08</td>\n",
       "      <td>108</td>\n",
       "      <td>3</td>\n",
       "    </tr>\n",
       "    <tr>\n",
       "      <th>18595</th>\n",
       "      <td>208186</td>\n",
       "      <td>6.384045e-08</td>\n",
       "      <td>108</td>\n",
       "      <td>3</td>\n",
       "    </tr>\n",
       "    <tr>\n",
       "      <th>18596</th>\n",
       "      <td>208187</td>\n",
       "      <td>6.384045e-08</td>\n",
       "      <td>72</td>\n",
       "      <td>2</td>\n",
       "    </tr>\n",
       "  </tbody>\n",
       "</table>\n",
       "<p>21651 rows × 4 columns</p>\n",
       "</div>"
      ],
      "text/plain": [
       "       player_id       predict  questions  tournament_id\n",
       "2526       27403  6.316987e-01        517             13\n",
       "388         4270  5.231739e-01        433             11\n",
       "2653       28751  5.110516e-01        626             16\n",
       "2100       22474  4.574046e-01         36              1\n",
       "2782       30152  4.459775e-01       1669             43\n",
       "...          ...           ...        ...            ...\n",
       "18341     207705  6.409654e-08         36              1\n",
       "18593     208183  6.384045e-08        108              3\n",
       "18592     208182  6.384045e-08        108              3\n",
       "18595     208186  6.384045e-08        108              3\n",
       "18596     208187  6.384045e-08         72              2\n",
       "\n",
       "[21651 rows x 4 columns]"
      ]
     },
     "execution_count": 25,
     "metadata": {},
     "output_type": "execute_result"
    }
   ],
   "source": [
    "data_players_test = pd.DataFrame({'tournament_id': tournament_num_test, 'team_id': team_num_test,\n",
    "                                  'player_id': player_num_test, 'questions': question_num_test, 'predict': pred_test_em})\n",
    "data_players_test[\"iverse_predict\"] = 1 - data_players_test[\"predict\"]\n",
    "\n",
    "# формируем данные id и предсказанный рейтинг\n",
    "data_players_test_pred = data_players_test[[\"player_id\", 'predict']].groupby([\"player_id\"]).agg(\"mean\").reset_index()\n",
    "data_players_test_question = data_players_test[[\"player_id\", 'questions']].groupby([\"player_id\"]).agg(\"count\").reset_index()\n",
    "data_all = data_players_test_pred.merge(data_players_test_question, on=[\"player_id\"])\n",
    "# формируем данные по играм\n",
    "data_players_test_tour = data_players_test[[\"player_id\", 'tournament_id']].drop_duplicates().reset_index()\n",
    "data_players_test_tour = data_players_test_tour.drop(\"index\", axis=1).groupby([\"player_id\"]).agg(\"count\").reset_index()\n",
    "# собираем данные вместе\n",
    "data_all = data_all.merge(data_players_test_tour, on=[\"player_id\"])\n",
    "data_all = data_all.sort_values(by='predict', ascending=False)\n",
    "# выведем получившиеся значения\n",
    "data_all"
   ]
  },
  {
   "cell_type": "code",
   "execution_count": 26,
   "metadata": {},
   "outputs": [],
   "source": [
    "def find_player(dataset, results):\n",
    "    \"\"\"Поиск топ игроков в данных.\"\"\"\n",
    "    \n",
    "    name_player, surname_player, list_all = [], [], []\n",
    "    best_play = {}\n",
    "    top_players = list(dataset['player_id'][:10].values)\n",
    "    for k, v in results.items():\n",
    "        for tour in v:\n",
    "            for res in tour['teamMembers']:\n",
    "                res_id = res['player']['id']\n",
    "                if res_id in top_players:\n",
    "                    if res_id not in list_all:\n",
    "                        name_player.append(res['player']['name'])\n",
    "                        surname_player.append(res['player']['surname'])\n",
    "                        list_all.append(res_id)\n",
    "                        \n",
    "    sort_list = dict(zip(top_players, range(len(top_players))))\n",
    "    data_find_player = pd.DataFrame({'player_id': list_all, 'name': name_player,'surname': surname_player})\n",
    "    data_find_player['player_id_sort'] = data_find_player['player_id'].map(sort_list)\n",
    "    data_find_player = data_find_player.sort_values(by='player_id_sort', ascending=True).drop('player_id_sort', axis=1).reset_index(drop=True)\n",
    "    \n",
    "    return data_find_player"
   ]
  },
  {
   "cell_type": "code",
   "execution_count": 27,
   "metadata": {},
   "outputs": [
    {
     "data": {
      "text/html": [
       "<div>\n",
       "<style scoped>\n",
       "    .dataframe tbody tr th:only-of-type {\n",
       "        vertical-align: middle;\n",
       "    }\n",
       "\n",
       "    .dataframe tbody tr th {\n",
       "        vertical-align: top;\n",
       "    }\n",
       "\n",
       "    .dataframe thead th {\n",
       "        text-align: right;\n",
       "    }\n",
       "</style>\n",
       "<table border=\"1\" class=\"dataframe\">\n",
       "  <thead>\n",
       "    <tr style=\"text-align: right;\">\n",
       "      <th></th>\n",
       "      <th>player_id</th>\n",
       "      <th>name</th>\n",
       "      <th>surname</th>\n",
       "    </tr>\n",
       "  </thead>\n",
       "  <tbody>\n",
       "    <tr>\n",
       "      <th>0</th>\n",
       "      <td>27403</td>\n",
       "      <td>Максим</td>\n",
       "      <td>Руссо</td>\n",
       "    </tr>\n",
       "    <tr>\n",
       "      <th>1</th>\n",
       "      <td>4270</td>\n",
       "      <td>Александра</td>\n",
       "      <td>Брутер</td>\n",
       "    </tr>\n",
       "    <tr>\n",
       "      <th>2</th>\n",
       "      <td>28751</td>\n",
       "      <td>Иван</td>\n",
       "      <td>Семушин</td>\n",
       "    </tr>\n",
       "    <tr>\n",
       "      <th>3</th>\n",
       "      <td>22474</td>\n",
       "      <td>Илья</td>\n",
       "      <td>Немец</td>\n",
       "    </tr>\n",
       "    <tr>\n",
       "      <th>4</th>\n",
       "      <td>30152</td>\n",
       "      <td>Артём</td>\n",
       "      <td>Сорожкин</td>\n",
       "    </tr>\n",
       "    <tr>\n",
       "      <th>5</th>\n",
       "      <td>30270</td>\n",
       "      <td>Сергей</td>\n",
       "      <td>Спешков</td>\n",
       "    </tr>\n",
       "    <tr>\n",
       "      <th>6</th>\n",
       "      <td>27822</td>\n",
       "      <td>Михаил</td>\n",
       "      <td>Савченков</td>\n",
       "    </tr>\n",
       "    <tr>\n",
       "      <th>7</th>\n",
       "      <td>20691</td>\n",
       "      <td>Станислав</td>\n",
       "      <td>Мереминский</td>\n",
       "    </tr>\n",
       "    <tr>\n",
       "      <th>8</th>\n",
       "      <td>18036</td>\n",
       "      <td>Михаил</td>\n",
       "      <td>Левандовский</td>\n",
       "    </tr>\n",
       "    <tr>\n",
       "      <th>9</th>\n",
       "      <td>7008</td>\n",
       "      <td>Алексей</td>\n",
       "      <td>Гилёв</td>\n",
       "    </tr>\n",
       "  </tbody>\n",
       "</table>\n",
       "</div>"
      ],
      "text/plain": [
       "   player_id        name       surname\n",
       "0      27403      Максим         Руссо\n",
       "1       4270  Александра        Брутер\n",
       "2      28751        Иван       Семушин\n",
       "3      22474        Илья         Немец\n",
       "4      30152       Артём      Сорожкин\n",
       "5      30270      Сергей       Спешков\n",
       "6      27822      Михаил     Савченков\n",
       "7      20691   Станислав   Мереминский\n",
       "8      18036      Михаил  Левандовский\n",
       "9       7008     Алексей         Гилёв"
      ]
     },
     "execution_count": 27,
     "metadata": {},
     "output_type": "execute_result"
    }
   ],
   "source": [
    "# формируем датафрей лучших игроков\n",
    "data_find_player = find_player(data_all, results_all)\n",
    "# выводим их\n",
    "data_find_player"
   ]
  },
  {
   "cell_type": "code",
   "execution_count": 28,
   "metadata": {},
   "outputs": [],
   "source": [
    "def request_find_player(dataset, data_all):\n",
    "    \"\"\"Выводим статистики игроков и парсим их данные с сайта ЧКГ.\"\"\"\n",
    "    \n",
    "    rating_model, all_name, val_otvet, val_tournament, rating_official = [], [], [], [], []\n",
    "    for index, row in dataset.iterrows():\n",
    "        data_pars = row.copy()\n",
    "        # получаем данные с сайта\n",
    "        url = f\"https://rating.chgk.info/api/players/{data_pars.player_id}/rating/last\"\n",
    "        data_url = requests.get(url, None).json()['rating_position']\n",
    "        # место в рейтинге по моделе\n",
    "        rating_model.append(index + 1)\n",
    "        # Имя Фамилия игрока\n",
    "        all_name.append(data_pars['name'] + ' ' + data_pars['surname'])\n",
    "        # количество ответов на вопросы\n",
    "        val_otvet.append(data_all[data_all.player_id == int(data_pars.player_id)].questions.values[0])\n",
    "        # количество сыгранных турниров\n",
    "        val_tournament.append(data_all[data_all.player_id == int(data_pars.player_id)].tournament_id.values[0])\n",
    "        # рейтинг в базе ЧКГ\n",
    "        rating_official.append(data_url)\n",
    "        \n",
    "    data_request_find_player = pd.DataFrame({'rating_model': rating_model, 'all_name': all_name,\n",
    "                                             'val_otvet': val_otvet, 'val_tournament': val_tournament,\n",
    "                                             'rating_official': rating_official})\n",
    "        \n",
    "    return data_request_find_player"
   ]
  },
  {
   "cell_type": "code",
   "execution_count": 29,
   "metadata": {},
   "outputs": [
    {
     "data": {
      "text/html": [
       "<div>\n",
       "<style scoped>\n",
       "    .dataframe tbody tr th:only-of-type {\n",
       "        vertical-align: middle;\n",
       "    }\n",
       "\n",
       "    .dataframe tbody tr th {\n",
       "        vertical-align: top;\n",
       "    }\n",
       "\n",
       "    .dataframe thead th {\n",
       "        text-align: right;\n",
       "    }\n",
       "</style>\n",
       "<table border=\"1\" class=\"dataframe\">\n",
       "  <thead>\n",
       "    <tr style=\"text-align: right;\">\n",
       "      <th></th>\n",
       "      <th>rating_model</th>\n",
       "      <th>all_name</th>\n",
       "      <th>val_otvet</th>\n",
       "      <th>val_tournament</th>\n",
       "      <th>rating_official</th>\n",
       "    </tr>\n",
       "  </thead>\n",
       "  <tbody>\n",
       "    <tr>\n",
       "      <th>0</th>\n",
       "      <td>1</td>\n",
       "      <td>Максим Руссо</td>\n",
       "      <td>517</td>\n",
       "      <td>13</td>\n",
       "      <td>5</td>\n",
       "    </tr>\n",
       "    <tr>\n",
       "      <th>1</th>\n",
       "      <td>2</td>\n",
       "      <td>Александра Брутер</td>\n",
       "      <td>433</td>\n",
       "      <td>11</td>\n",
       "      <td>6</td>\n",
       "    </tr>\n",
       "    <tr>\n",
       "      <th>2</th>\n",
       "      <td>3</td>\n",
       "      <td>Иван Семушин</td>\n",
       "      <td>626</td>\n",
       "      <td>16</td>\n",
       "      <td>3</td>\n",
       "    </tr>\n",
       "    <tr>\n",
       "      <th>3</th>\n",
       "      <td>4</td>\n",
       "      <td>Илья Немец</td>\n",
       "      <td>36</td>\n",
       "      <td>1</td>\n",
       "      <td>4473</td>\n",
       "    </tr>\n",
       "    <tr>\n",
       "      <th>4</th>\n",
       "      <td>5</td>\n",
       "      <td>Артём Сорожкин</td>\n",
       "      <td>1669</td>\n",
       "      <td>43</td>\n",
       "      <td>1</td>\n",
       "    </tr>\n",
       "    <tr>\n",
       "      <th>5</th>\n",
       "      <td>6</td>\n",
       "      <td>Сергей Спешков</td>\n",
       "      <td>986</td>\n",
       "      <td>25</td>\n",
       "      <td>4</td>\n",
       "    </tr>\n",
       "    <tr>\n",
       "      <th>6</th>\n",
       "      <td>7</td>\n",
       "      <td>Михаил Савченков</td>\n",
       "      <td>671</td>\n",
       "      <td>17</td>\n",
       "      <td>2</td>\n",
       "    </tr>\n",
       "    <tr>\n",
       "      <th>7</th>\n",
       "      <td>8</td>\n",
       "      <td>Станислав Мереминский</td>\n",
       "      <td>427</td>\n",
       "      <td>9</td>\n",
       "      <td>38</td>\n",
       "    </tr>\n",
       "    <tr>\n",
       "      <th>8</th>\n",
       "      <td>9</td>\n",
       "      <td>Михаил Левандовский</td>\n",
       "      <td>353</td>\n",
       "      <td>8</td>\n",
       "      <td>8</td>\n",
       "    </tr>\n",
       "    <tr>\n",
       "      <th>9</th>\n",
       "      <td>10</td>\n",
       "      <td>Алексей Гилёв</td>\n",
       "      <td>1033</td>\n",
       "      <td>23</td>\n",
       "      <td>30</td>\n",
       "    </tr>\n",
       "  </tbody>\n",
       "</table>\n",
       "</div>"
      ],
      "text/plain": [
       "   rating_model               all_name  val_otvet  val_tournament  \\\n",
       "0             1           Максим Руссо        517              13   \n",
       "1             2      Александра Брутер        433              11   \n",
       "2             3           Иван Семушин        626              16   \n",
       "3             4             Илья Немец         36               1   \n",
       "4             5         Артём Сорожкин       1669              43   \n",
       "5             6         Сергей Спешков        986              25   \n",
       "6             7       Михаил Савченков        671              17   \n",
       "7             8  Станислав Мереминский        427               9   \n",
       "8             9    Михаил Левандовский        353               8   \n",
       "9            10          Алексей Гилёв       1033              23   \n",
       "\n",
       "  rating_official  \n",
       "0               5  \n",
       "1               6  \n",
       "2               3  \n",
       "3            4473  \n",
       "4               1  \n",
       "5               4  \n",
       "6               2  \n",
       "7              38  \n",
       "8               8  \n",
       "9              30  "
      ]
     },
     "execution_count": 29,
     "metadata": {},
     "output_type": "execute_result"
    }
   ],
   "source": [
    "# формируем статистики\n",
    "rating_top_player = request_find_player(data_find_player, data_all)\n",
    "# выводим результат\n",
    "rating_top_player"
   ]
  },
  {
   "cell_type": "code",
   "execution_count": 30,
   "metadata": {},
   "outputs": [
    {
     "data": {
      "text/plain": [
       "<AxesSubplot:>"
      ]
     },
     "execution_count": 30,
     "metadata": {},
     "output_type": "execute_result"
    },
    {
     "data": {
      "image/png": "[encoded data removed]",
      "text/plain": [
       "<Figure size 432x288 with 1 Axes>"
      ]
     },
     "metadata": {},
     "output_type": "display_data"
    }
   ],
   "source": [
    "# посмотрим на гистограмма по участию в турнирах\n",
    "rating_top_player.val_tournament.hist()\n",
    "# в целом видно, что в топе люди, кто сыграл меньше 20 игр"
   ]
  },
  {
   "cell_type": "markdown",
   "metadata": {},
   "source": [
    "7. Бонус: игроки со временем учатся играть лучше (а иногда бывает и наоборот). А в нашей модели получается, что первые неудачные турниры новичка будут тянуть его рейтинг вниз всю жизнь — это нехорошо, рейтинг должен быть достаточно гибким и иметь возможность меняться даже у игроков, отыгравших сотни турниров. Давайте попробуем этого добиться:\n",
    "- если хватит вычислительных ресурсов, сначала сделайте baseline совсем без таких схем, обучив рейтинги на всех турнирах с повопросными результатами, а не только на турнирах 2019 года; улучшилось ли качество предсказаний на 2020?\n",
    "- одну схему со временем мы уже использовали: брали для обучения только последний год турниров; примерно так делают, например, в теннисной чемпионской гонке; у этой схемы есть свои преимущества, но есть и недостатки (например, достаточно мало играть год, чтобы полностью пропасть из рейтинга);\n",
    "- предложите варианты базовой модели или алгоритма её обучения, которые могли бы реализовать изменения рейтинга со временем; если получится, реализуйте их на практике, проверьте, улучшатся ли предсказания на 2020."
   ]
  },
  {
   "cell_type": "markdown",
   "metadata": {},
   "source": [
    "#### Обучение на всех данных"
   ]
  },
  {
   "cell_type": "code",
   "execution_count": 31,
   "metadata": {},
   "outputs": [],
   "source": [
    "results_full, tournaments_full = data_selection(tournaments, results)"
   ]
  },
  {
   "cell_type": "code",
   "execution_count": 32,
   "metadata": {},
   "outputs": [],
   "source": [
    "def train_test_split_full(results, tournaments):\n",
    "    \"\"\"Функция для train, test.\"\"\"\n",
    "    \n",
    "    data_train, data_test = {}, {}\n",
    "    \n",
    "    for k, v in results.items():\n",
    "        # формирование train\n",
    "        if tournaments[k][\"dateStart\"][:4] != '2020':\n",
    "            data_train[k] = {\"tournament_name\": tournaments[k][\"name\"]}\n",
    "            res = []\n",
    "            for turn in v:\n",
    "                team_info = {\"team_id\": turn[\"team\"][\"id\"], \"mask\": turn[\"mask\"],\n",
    "                             \"position\": turn[\"position\"],\n",
    "                             \"teamMembers\": [iterr[\"player\"][\"id\"] for iterr in turn['teamMembers']]}\n",
    "                res.append(team_info)\n",
    "            data_train[k][\"tournament_result\"] = res\n",
    "        else:\n",
    "            # формирование test\n",
    "            data_test[k] = {\"tournament_name\": tournaments[k][\"name\"]}\n",
    "            res = []\n",
    "            for turn in v:\n",
    "                team_info = {\"team_id\": turn[\"team\"][\"id\"], \"mask\": turn[\"mask\"],\n",
    "                             \"position\": turn[\"position\"],\n",
    "                             \"teamMembers\": [iterr[\"player\"][\"id\"] for iterr in turn['teamMembers']]}\n",
    "                res.append(team_info)\n",
    "            data_test[k][\"tournament_result\"] = res\n",
    "        \n",
    "    return data_train, data_test"
   ]
  },
  {
   "cell_type": "code",
   "execution_count": 33,
   "metadata": {},
   "outputs": [],
   "source": [
    "# формируем полную выборку для train и test\n",
    "data_train_full, data_test_full = train_test_split_full(results_full, tournaments_full)"
   ]
  },
  {
   "cell_type": "code",
   "execution_count": 34,
   "metadata": {},
   "outputs": [
    {
     "name": "stdout",
     "output_type": "stream",
     "text": [
      "Wall time: 1h 23min 54s\n"
     ]
    }
   ],
   "source": [
    "%%time\n",
    "\n",
    "# фильтрация игроков\n",
    "count_players_full = check_count_players(data_train_full)\n",
    "filter_value_players_full = filter_value(count_players_full)\n",
    "    \n",
    "del_players_full = set()\n",
    "for res in data_train_full.values():\n",
    "    for tourn in res[\"tournament_result\"]:\n",
    "        tourn[\"teamMembers\"] = set([-1 if iterr in filter_value_players_full else iterr for iterr in tourn[\"teamMembers\"]])\n",
    "        del_players_full.update(tourn[\"teamMembers\"])\n",
    "\n",
    "for res in data_test_full.values():\n",
    "    for tourn in res[\"tournament_result\"]:\n",
    "        tourn[\"teamMembers\"] = set([-1 if iterr not in del_players_full else iterr for iterr in tourn[\"teamMembers\"]])  "
   ]
  },
  {
   "cell_type": "code",
   "execution_count": 35,
   "metadata": {},
   "outputs": [],
   "source": [
    "# обработка вопросов\n",
    "questions_data_full = features_data(data_train_full)"
   ]
  },
  {
   "cell_type": "code",
   "execution_count": 36,
   "metadata": {},
   "outputs": [
    {
     "name": "stdout",
     "output_type": "stream",
     "text": [
      "Результаты для train на всем наборе: 0.5169154395489767, результаты для test: 0.7061593846469533\n"
     ]
    }
   ],
   "source": [
    "# данные для обучения\n",
    "X_train_full, y_train_full = data_to_split(data_train_full, questions_data_full, True)\n",
    "# данные для теста\n",
    "X_test_full, y_test_full = data_to_split(data_test_full, questions_data_full, False)\n",
    "\n",
    "# обучаем baseline модель\n",
    "model_full = linear_model.LogisticRegression()\n",
    "model_full.fit(X_train_full, y_train_full)\n",
    "\n",
    "# сделаем предикт на данных и выведем результаты по метрикам\n",
    "pred_train_full = model_full.predict_proba(X_train_full)\n",
    "pred_test_full = model_full.predict_proba(X_test_full)\n",
    "print(f\"Результаты для train на всем наборе: {log_loss(y_train_full, pred_train_full)}, результаты для test: {log_loss(y_test_full, pred_test_full)}\")"
   ]
  },
  {
   "cell_type": "markdown",
   "metadata": {},
   "source": [
    "#### На полном наборе данных не много улучшилось качество предсказаний на 2020 год"
   ]
  }
 ],
 "metadata": {
  "kernelspec": {
   "display_name": "Python 3",
   "language": "python",
   "name": "python3"
  },
  "language_info": {
   "codemirror_mode": {
    "name": "ipython",
    "version": 3
   },
   "file_extension": ".py",
   "mimetype": "text/x-python",
   "name": "python",
   "nbconvert_exporter": "python",
   "pygments_lexer": "ipython3",
   "version": "3.8.5"
  }
 },
 "nbformat": 4,
 "nbformat_minor": 4
}
